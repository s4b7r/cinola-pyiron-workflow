{
 "cells": [
  {
   "cell_type": "markdown",
   "id": "b021beaf-1468-47c8-aee8-6df7c1d378a3",
   "metadata": {},
   "source": [
    "# Magnetic Monte Carlo with CINOLA\n",
    "\n",
    "This workflow makes use of a spin dynamics code named CINOLA, which is developed in-house at Hochschule Bielefeld University of Applied Sciences and Arts. Head developer and original author is Prof. Dr. Christian Schröder.\n",
    "\n",
    "The spin dynamics code is integrated via a call to the compiled binary. This workflow takes of care of the required input and output format of the spin dynamics code."
   ]
  },
  {
   "cell_type": "code",
   "execution_count": null,
   "id": "18ee88ac-7823-49d9-8d5e-860c9d2d0767",
   "metadata": {},
   "outputs": [],
   "source": [
    "import cinola_interface as cin"
   ]
  },
  {
   "cell_type": "code",
   "execution_count": null,
   "id": "10661d4e-469d-4d02-ab3c-59ba4b82aa5e",
   "metadata": {},
   "outputs": [],
   "source": [
    "import numpy as np\n",
    "import matplotlib.pylab as plt\n",
    "%config InlineBackend.figure_format = 'retina'"
   ]
  },
  {
   "cell_type": "code",
   "execution_count": null,
   "id": "ee469d0d-33c0-4fbe-a89d-f55bbedaab27",
   "metadata": {},
   "outputs": [],
   "source": [
    "from pathlib import Path\n",
    "import shutil\n"
   ]
  },
  {
   "cell_type": "markdown",
   "id": "dc4fc895-31e5-42b7-ac59-2b3c40dcb0b9",
   "metadata": {},
   "source": [
    "# boiler plate for pyiron in local development environment\n",
    "\n",
    "To use this workflow in a productive pyiron environment,\n",
    "\n",
    "1. remove this cell,\n",
    "2. place the files of the dynamic pyiron job (`./pyiron/resources/dynamic/MyCinolaJob/`) into the correct ressource path of your pyiron installation,\n",
    "3. install the cinola_interface module (`./cinola_interface.py`) in your Python environment.\n",
    "\n",
    "> Yes, this is still a process with manual steps. New versions will clean this up."
   ]
  },
  {
   "cell_type": "markdown",
   "id": "11494477-5010-4092-8309-f05e0fbb0c4d",
   "metadata": {},
   "source": [
    "The pyiron CINOLA job is for dev purposes located inside this project, not the central user folder. It is in ./pyiron/resources/"
   ]
  },
  {
   "cell_type": "code",
   "execution_count": null,
   "id": "3f02ec33-c93b-40be-a0c7-cf5ba9b74183",
   "metadata": {},
   "outputs": [],
   "source": [
    "# %%\n",
    "root = Path('.')\n",
    "\n",
    "# %%\n",
    "# Removing files from previous tests\n",
    "\n",
    "try:\n",
    "    shutil.rmtree(str((root / 'pyiron-run').resolve()))\n",
    "except FileNotFoundError:\n",
    "    pass\n",
    "try:\n",
    "    (root / 'info.log').unlink(missing_ok=True)\n",
    "    (root / 'pyiron.db').unlink(missing_ok=True)\n",
    "    (root / 'pyiron.log').unlink(missing_ok=True)\n",
    "except PermissionError:\n",
    "    print('This does only work, if pyiron is not loaded already. Else it has exclusive access to this file.')\n",
    "\n",
    "# %%\n",
    "import pyiron\n",
    "import pyiron_base\n",
    "import pyiron_atomistics\n",
    "print('pyiron: ' + pyiron.__version__)\n",
    "print('pyiron_base: ' + pyiron_base.__version__)\n",
    "print('pyiron_atomistics: ' + pyiron_atomistics.__version__)\n",
    "\n",
    "# %%\n",
    "import sys\n",
    "for idx, path in enumerate(sys.path, 1):\n",
    "    print(f'{idx} - {path}')\n",
    "print('\\n')\n",
    "print('pyiron: ' + pyiron.__file__)\n",
    "print('pyiron_base: ' + pyiron_base.__file__)\n",
    "print('pyiron_atomistics: ' + pyiron_atomistics.__file__)\n",
    "\n",
    "\n",
    "# %%\n",
    "from pyiron import Project\n",
    "from pyiron_base.generic.dynamic import _get_template_classes\n",
    "pr = Project(path='pyiron-run')\n",
    "pr.state.update({\n",
    "    'sql_file': './pyiron.db',\n",
    "    'sql_type': 'SQLite',\n",
    "    'resource_paths': str(root / 'pyiron' / 'resources'),\n",
    "})\n",
    "pr.create.job._job_dyn_dict = _get_template_classes()\n",
    "\n",
    "pr.remove_jobs(recursive=True, silently=True)"
   ]
  },
  {
   "cell_type": "markdown",
   "id": "dd810fd3-2bcb-4a11-b27e-92b6c57b705a",
   "metadata": {},
   "source": [
    "# Preparing $J_{}$"
   ]
  },
  {
   "cell_type": "code",
   "execution_count": null,
   "id": "e507897c-a50a-48b8-b389-73daea056b55",
   "metadata": {},
   "outputs": [],
   "source": [
    "def get_J_in_K_from_eV(J_eV):\n",
    "    boltzmann_eVperK = 8.617e-5 #* ureg.boltzmann_constant\n",
    "    return (J_eV / (boltzmann_eVperK))"
   ]
  },
  {
   "cell_type": "markdown",
   "id": "8f9a4375-449f-4365-b7c5-588085456b8f",
   "metadata": {},
   "source": [
    "## Input of J and structure parameters\n",
    "\n",
    "Modify this to your liking."
   ]
  },
  {
   "cell_type": "markdown",
   "id": "838477eb-c4eb-4692-a28b-4599a1e8bef3",
   "metadata": {},
   "source": [
    "This is example data taken from a paper on Gd: R Essajai et al 2021 Phys. Scr. 96 015808 https://doi.org/10.1088/1402-4896/abc984"
   ]
  },
  {
   "cell_type": "markdown",
   "id": "50ad9e59-c59a-4258-a679-2c4fc98dd01c",
   "metadata": {},
   "source": [
    "Later, the user has to put in configuration for the structure usign pyiron measures. "
   ]
  },
  {
   "cell_type": "markdown",
   "id": "a6968a49-94c1-4f2c-9681-316ec9a6335e",
   "metadata": {},
   "source": [
    "The Js are expected to be in eV. The list of Js contains all Js, starting from the inner-most shell, then continuing up to the outer-most shell. What inner- and outer-most shell means is based on the distances pyiron calculates and the sorting it then does in its structure / neighborhood attributes."
   ]
  },
  {
   "cell_type": "code",
   "execution_count": null,
   "id": "9fd7378e-2b43-4257-a7bf-8bad77fc0690",
   "metadata": {},
   "outputs": [],
   "source": [
    "a, c = 3.629, 5.796\n",
    "structure = pr.create.structure.bulk('Gd', a=a, c=c, crystalstructure='hcp' ).repeat(8)\n",
    "Js = [2.55e-3, 1.74e-3] # eV\n",
    "\n",
    "# Another test with fcc Ni with a=3.532 Angstrom and repeat(18)\n",
    "structure = pr.create.structure.bulk('Ni', a=3.532, crystalstructure='fcc' ).repeat(18)\n",
    "Js = [7.13245e-3, 12.73309e-3] # eV\n"
   ]
  },
  {
   "cell_type": "code",
   "execution_count": null,
   "id": "b1c15552-e358-4128-b341-230d997441b7",
   "metadata": {},
   "outputs": [],
   "source": [
    "#structure = pr.create.structure.bulk('Fe', cubic=True).repeat(3)\n",
    "#Js = [.0167] #eV"
   ]
  },
  {
   "cell_type": "code",
   "execution_count": null,
   "id": "f320dcd7-912f-462d-8ff1-7dfc8d89f5b4",
   "metadata": {},
   "outputs": [],
   "source": [
    "Js"
   ]
  },
  {
   "cell_type": "markdown",
   "id": "54fe6f0a-5232-4173-9e5d-92f5bebb061e",
   "metadata": {},
   "source": [
    "## Unusual scaling due to the article, we used as reference for the exchange parameters"
   ]
  },
  {
   "cell_type": "markdown",
   "id": "b9f12381-3d8b-4d01-a1c0-b2674664315e",
   "metadata": {},
   "source": [
    "This scaling is not usual. However, it makes the important point that it has to be thoroughly described what J actually means here and in general! "
   ]
  },
  {
   "cell_type": "code",
   "execution_count": null,
   "id": "bb17dd0e-3e0f-4ad1-832a-4796baec3861",
   "metadata": {},
   "outputs": [],
   "source": [
    "Js = [J / 6 for J in Js]"
   ]
  },
  {
   "cell_type": "code",
   "execution_count": null,
   "id": "644e3bb7-e41d-4c25-af5c-ffa84486df06",
   "metadata": {},
   "outputs": [],
   "source": [
    "Js"
   ]
  },
  {
   "cell_type": "markdown",
   "id": "c4626df8-907c-46e8-80b6-c0e957672351",
   "metadata": {},
   "source": [
    "## Scaling of J with mu_eff\n",
    "\n",
    "This is required by the simulation code.\n",
    "\n",
    "Adjust the $\\mu_{eff}$ here."
   ]
  },
  {
   "cell_type": "markdown",
   "id": "7ff6e6f5-eda0-4e96-a2ef-7eac92a1131a",
   "metadata": {},
   "source": [
    "CINOLA assumes J scaled with $\\mu_{eff}$. The scaling is done here. Therefor, $\\mu_{eff}$ *mu_eff_prefactor* has to be put in by the user here."
   ]
  },
  {
   "cell_type": "code",
   "execution_count": null,
   "id": "fbf174d2-bc67-4ca9-aa6f-6c9a3e3fb70b",
   "metadata": {},
   "outputs": [],
   "source": [
    "mu_eff_prefactor = 7.22\n"
   ]
  },
  {
   "cell_type": "code",
   "execution_count": null,
   "id": "a2fb214b-7fc5-4102-97fe-7ef135a5a8bf",
   "metadata": {},
   "outputs": [],
   "source": [
    "#muB = 9.274009e-24; # J/T\n",
    "muB = 5.788382e-5; # eV/T\n",
    "kB_JperK = 1.380e-23 # J/K\n",
    "kB_eVperK = 8.617e-5 # eV/K"
   ]
  },
  {
   "cell_type": "code",
   "execution_count": null,
   "id": "0bcddc71-016e-4abe-b6af-62f0750501cf",
   "metadata": {},
   "outputs": [],
   "source": [
    "mu_eff = mu_eff_prefactor * muB / kB_eVperK"
   ]
  },
  {
   "cell_type": "code",
   "execution_count": null,
   "id": "ac1b0e1b-4d10-4bdd-8320-6e2ccf31c392",
   "metadata": {},
   "outputs": [],
   "source": [
    "\n",
    "Js = [J * mu_eff ** 2 for J in Js]\n"
   ]
  },
  {
   "cell_type": "code",
   "execution_count": null,
   "id": "ef8ea4aa-0ce9-4aa5-ab2d-a9dbae374161",
   "metadata": {},
   "outputs": [],
   "source": [
    "Js"
   ]
  },
  {
   "cell_type": "markdown",
   "id": "9dc6c2e9-7b7d-42f0-9089-a6befae87e1a",
   "metadata": {},
   "source": [
    "## Converting J[eV] into J[K] for CINOLA"
   ]
  },
  {
   "cell_type": "code",
   "execution_count": null,
   "id": "235f0f5b-e8eb-4cbd-9c07-60c15ad52f26",
   "metadata": {},
   "outputs": [],
   "source": [
    "Js_K = [get_J_in_K_from_eV(J) for J in Js]"
   ]
  },
  {
   "cell_type": "code",
   "execution_count": null,
   "id": "48ec5939-d7d3-4bf0-8b16-553e18fa078c",
   "metadata": {},
   "outputs": [],
   "source": [
    "Js_K"
   ]
  },
  {
   "cell_type": "markdown",
   "id": "411508dc-b1b4-44cc-ab67-06c3987c407d",
   "metadata": {},
   "source": [
    "# Create $J_{ij}$ from structure and input Js"
   ]
  },
  {
   "cell_type": "code",
   "execution_count": null,
   "id": "0738fb91-a888-4dfd-bb77-4a280778646b",
   "metadata": {},
   "outputs": [],
   "source": [
    "structure.plot3d()"
   ]
  },
  {
   "cell_type": "code",
   "execution_count": null,
   "id": "ce722670-5d77-4fe1-a3a9-4aea606e5b05",
   "metadata": {},
   "outputs": [],
   "source": [
    "len(structure)"
   ]
  },
  {
   "cell_type": "code",
   "execution_count": null,
   "id": "1d97faaa-2203-4e01-b614-ece557fa6f8f",
   "metadata": {},
   "outputs": [],
   "source": [
    "_, Jij = cin.get_neighborhoods(structure=structure, Js_K=Js_K)"
   ]
  },
  {
   "cell_type": "markdown",
   "id": "019025bd-31be-4d35-a303-1e241a8f3b73",
   "metadata": {},
   "source": [
    "# Additional pyiron structure setup"
   ]
  },
  {
   "cell_type": "code",
   "execution_count": null,
   "id": "335d2c1c-8ec7-47a1-9bae-64d59858e4d8",
   "metadata": {},
   "outputs": [],
   "source": [
    "structure.set_initial_magnetic_moments([mu_eff_prefactor]*len(structure))\n"
   ]
  },
  {
   "cell_type": "markdown",
   "id": "528499af-9282-4bfb-9789-114bb1d60da7",
   "metadata": {},
   "source": [
    "# Run CINOLA with pyiron\n",
    "\n",
    "Choose the number of iterations per temperature here:"
   ]
  },
  {
   "cell_type": "markdown",
   "id": "a79157a6-62c0-4814-a999-62883f83262c",
   "metadata": {},
   "source": [
    "Please input the number of MC iterations you would like to to per temperature here."
   ]
  },
  {
   "cell_type": "code",
   "execution_count": null,
   "id": "96e44297-438d-4506-87c7-6f8c5d58781c",
   "metadata": {},
   "outputs": [],
   "source": [
    "iterations_per_temperature_cinola = 1000_000#00"
   ]
  },
  {
   "cell_type": "markdown",
   "id": "93fbd289-a2d0-4b2c-912e-b38fb019b3a0",
   "metadata": {},
   "source": [
    "`delete_exisiting_job=True` is primarily used in the development of this workflow. Please adjust as needed for your usecase."
   ]
  },
  {
   "cell_type": "code",
   "execution_count": null,
   "id": "5a27bc2d-0cd9-4c60-878c-60fd12cf1274",
   "metadata": {},
   "outputs": [],
   "source": [
    "job = pr.create.job.MyCinolaJob('script', delete_existing_job=True)"
   ]
  },
  {
   "cell_type": "markdown",
   "id": "649e5dfa-c7bd-433f-8496-02761c5cb950",
   "metadata": {},
   "source": [
    "## Additional inputs\n",
    "\n",
    "Adjust here:\n",
    "\n",
    "1. `H_value`: The external magnetic field in direction of XXX (to be filled). The direction is not yet exposed to the workflow.\n",
    "2. `T_low`: Minimum of the simulated temperature sweep.\n",
    "3. `T_high`: Maximum of the simulated temperature sweep.\n",
    "4. `T_step`: Step size of the simulated temperature sweep. Can be positive or negative."
   ]
  },
  {
   "cell_type": "code",
   "execution_count": null,
   "id": "3fd6ada4-9246-43ab-8799-392f9ca5cce2",
   "metadata": {},
   "outputs": [],
   "source": [
    "job.input['H_value'] = 1\n",
    "job.input['T_low'] = 200\n",
    "job.input['T_high'] = 350\n",
    "job.input['T_step'] = 5"
   ]
  },
  {
   "cell_type": "code",
   "execution_count": null,
   "id": "e2cac9a5-e95c-450d-a87c-91dde49dba99",
   "metadata": {},
   "outputs": [],
   "source": [
    "job.input['structure'] = structure\n",
    "job.input['Js_K'] = Js_K\n",
    "job.input['num_iter_per_temp'] = iterations_per_temperature_cinola\n"
   ]
  },
  {
   "cell_type": "code",
   "execution_count": null,
   "id": "e2fe2d47-345f-4c0f-a0cd-a21561661a4d",
   "metadata": {},
   "outputs": [],
   "source": [
    "# Do it\n",
    "job.run()"
   ]
  },
  {
   "cell_type": "markdown",
   "id": "039108e6-5738-4e04-9990-5443c2767a3b",
   "metadata": {},
   "source": [
    "# Extract results"
   ]
  },
  {
   "cell_type": "code",
   "execution_count": null,
   "id": "28074221-33e8-4f8d-b343-81dedd387bd3",
   "metadata": {},
   "outputs": [],
   "source": [
    "B_cinola = job.output['B_dfs'][0]['B']"
   ]
  },
  {
   "cell_type": "markdown",
   "id": "03da7597-bf5d-49b5-9e19-1fe81f4310cd",
   "metadata": {},
   "source": [
    "# Compare with Sam's studio MC\n",
    "\n",
    "https://github.com/samwaseda/sams-studio/"
   ]
  },
  {
   "cell_type": "code",
   "execution_count": null,
   "id": "32c66239-b0bf-4da6-ab47-f6217d03377d",
   "metadata": {},
   "outputs": [],
   "source": [
    "iterations_per_temperature_sams = 1000#_00"
   ]
  },
  {
   "cell_type": "code",
   "execution_count": null,
   "id": "1e85ae57-4e81-4b5c-b2be-24047d024a34",
   "metadata": {},
   "outputs": [],
   "source": [
    "from samsstudio.MC.mc import MC"
   ]
  },
  {
   "cell_type": "code",
   "execution_count": null,
   "id": "093ae5c6-8ae6-43ae-b51b-71bed3d33508",
   "metadata": {},
   "outputs": [],
   "source": [
    "boltzmann_eVperK = 8.617e-5\n"
   ]
  },
  {
   "cell_type": "code",
   "execution_count": null,
   "id": "f424e5fb-5080-4963-8001-9e1ad3b3c0b8",
   "metadata": {},
   "outputs": [],
   "source": [
    "mc = MC(len(structure))\n",
    "mc.set_heisenberg_coeff(Jij * boltzmann_eVperK)\n",
    "\n"
   ]
  },
  {
   "cell_type": "code",
   "execution_count": null,
   "id": "7b45ea90-be03-4efe-b449-914586151554",
   "metadata": {},
   "outputs": [],
   "source": [
    "def magnetization_on_temperature(temperature):\n",
    "    mc.run(temperature=temperature, number_of_iterations=iterations_per_temperature_sams)\n",
    "    return mc.get_output()['magnetization']"
   ]
  },
  {
   "cell_type": "code",
   "execution_count": null,
   "id": "bd807ca9-0e41-4b22-943d-6422ae77192d",
   "metadata": {},
   "outputs": [],
   "source": [
    "sams_T = job.output['B_dfs'][0]['df']['T_[K]']\n",
    "sams_M = [magnetization_on_temperature(temperature) for temperature in sams_T]"
   ]
  },
  {
   "cell_type": "markdown",
   "id": "162e003e-4579-4eab-b4e3-c7ecf678244e",
   "metadata": {},
   "source": [
    "## Comparison"
   ]
  },
  {
   "cell_type": "code",
   "execution_count": null,
   "id": "3e79b005-25b1-4206-9c45-a690d94013c2",
   "metadata": {},
   "outputs": [],
   "source": [
    "from datetime import datetime"
   ]
  },
  {
   "cell_type": "code",
   "execution_count": null,
   "id": "2523ef09-091f-4e58-8583-61a917051b01",
   "metadata": {},
   "outputs": [],
   "source": [
    "job.output['B_dfs'][0]['df'][['T_[K]', 'MagAvgMag_[mu_B]']].plot(x='T_[K]', y='MagAvgMag_[mu_B]', label=f'CINOLA ({iterations_per_temperature_cinola:.1e} iterations, B={float(B_cinola):.1e} T)')\n",
    "plt.plot(sams_T, sams_M, label=f\"Sam's ({iterations_per_temperature_sams:.1e} iterations)\")\n",
    "plt.legend()\n",
    "plt.ylabel('Average Magnetization Magnitude $[\\mu_B]$')\n",
    "plt.title(datetime.now())\n"
   ]
  },
  {
   "cell_type": "code",
   "execution_count": null,
   "id": "15578b8d-fd01-413c-b736-ad887fc5282e",
   "metadata": {},
   "outputs": [],
   "source": [
    "x_iend = 15\n",
    "job.output['B_dfs'][0]['df'][['T_[K]', 'MagAvgMag_[mu_B]']][:x_iend].plot(x='T_[K]', y='MagAvgMag_[mu_B]', label=f'CINOLA ({iterations_per_temperature_cinola:.1e} iterations, B={float(B_cinola):.1e} T)')\n",
    "plt.plot(sams_T[:x_iend], sams_M[:x_iend], label=f\"Sam's ({iterations_per_temperature_sams:.1e} iterations)\")\n",
    "plt.legend()\n",
    "plt.ylabel('Average Magnetization Magnitude $[\\mu_B]$')\n",
    "plt.title(datetime.now())\n"
   ]
  },
  {
   "cell_type": "markdown",
   "id": "0d476aff-60bb-46f9-8256-8e47b8ff7eda",
   "metadata": {},
   "source": [
    "## Compare Average Magnetization Magnitude and Magnetization projected on H"
   ]
  },
  {
   "cell_type": "code",
   "execution_count": null,
   "id": "cb156b8b-d21e-439a-b81e-e8ef5213d77c",
   "metadata": {},
   "outputs": [],
   "source": [
    "\n",
    "plt.plot(sams_T, sams_M, label=f\"Sam's ({iterations_per_temperature_sams:.1e} iterations)\")\n",
    "axplt = plt.gca()\n",
    "axplt.legend()\n",
    "axpd = job.output['B_dfs'][0]['df'][['T_[K]', 'MagAvgMag_[mu_B]']].plot(ax=axplt, x='T_[K]', y='MagAvgMag_[mu_B]', label=f'CINOLA ({iterations_per_temperature_cinola:.1e} iterations, B={float(B_cinola):.1e} T)')\n",
    "plt.ylabel('Average Magnetization Magnitude')\n",
    "\n",
    "axsec = job.output['B_dfs'][0]['df'][['T_[K]', 'MagHProjected_[mu_B]']].plot(ax=axpd, x='T_[K]', y='MagHProjected_[mu_B]', label=f'CINOLA ({iterations_per_temperature_cinola:.1e} iterations, B={float(B_cinola):.1e} T)', secondary_y=True)\n",
    "plt.ylabel(\"Magnetization projected on H\")\n",
    "\n",
    "plt.title(datetime.now())\n",
    "\n",
    "ybot_plt, ytop_plt = axplt.get_ylim()\n",
    "ybot_pd, ytop_pd = axsec.get_ylim()\n",
    "yheight_plt = ytop_plt - ybot_plt\n",
    "yheight_pd = ytop_pd - ybot_pd\n",
    "axplt.set_ylim(ybot_plt , ybot_plt+yheight_plt*1.3)\n",
    "axsec.set_ylim(ybot_pd, ybot_pd+yheight_pd*1.3)\n",
    "\n",
    "axplt.grid(ls='--')"
   ]
  },
  {
   "cell_type": "code",
   "execution_count": null,
   "id": "ebdc7d79-c573-4442-92b7-e56fc69ad337",
   "metadata": {},
   "outputs": [],
   "source": [
    "\n",
    "plt.plot(sams_T, sams_M, label=f\"Sam's ({iterations_per_temperature_sams:.1e} iterations)\")\n",
    "axplt = plt.gca()\n",
    "axplt.legend()\n",
    "axpd = job.output['B_dfs'][0]['df'][['T_[K]', 'MagAvgMag_[mu_B]']].plot(ax=axplt, x='T_[K]', y='MagAvgMag_[mu_B]', label=f'CINOLA ({iterations_per_temperature_cinola:.1e} iterations, B={float(B_cinola):.1e} T)')\n",
    "plt.ylabel('Average Magnetization Magnitude')\n",
    "\n",
    "axsec = job.output['B_dfs'][0]['df'][['T_[K]', 'MagHProjected_[mu_B]']].plot(ax=axpd, x='T_[K]', y='MagHProjected_[mu_B]', label=f'CINOLA ({iterations_per_temperature_cinola:.1e} iterations, B={float(B_cinola):.1e} T)', secondary_y=True)\n",
    "plt.ylabel(\"Magnetization projected on H\")\n",
    "\n",
    "plt.title(datetime.now())\n",
    "\n",
    "ybot_plt, ytop_plt = axplt.get_ylim()\n",
    "ybot_pd, ytop_pd = axsec.get_ylim()\n",
    "yheight_plt = ytop_plt - ybot_plt\n",
    "yheight_pd = ytop_pd - ybot_pd\n",
    "axplt.set_ylim(ybot_plt , ybot_plt+yheight_plt*1.3)\n",
    "axsec.set_ylim(ybot_pd, ybot_pd+yheight_pd*1.3)\n",
    "axplt.set_xlim(-10, 500)\n",
    "axplt.set_xlim(-10, 500)\n",
    "\n",
    "axplt.grid(ls='--')"
   ]
  },
  {
   "cell_type": "markdown",
   "id": "fa8db2f4-b796-4708-bb2c-8f6fe8bdc1db",
   "metadata": {},
   "source": [
    "# Plot Susceptibility"
   ]
  },
  {
   "cell_type": "code",
   "execution_count": null,
   "id": "e61b40dc-65c0-4800-b483-3f54b1088a20",
   "metadata": {},
   "outputs": [],
   "source": [
    "chiT_df = job.output['B_dfs'][0]['df'][['T_[K]', 'Chi*T(cgs)_[cm^3/mol]']]\n",
    "chiT_df['chi'] = job.output['B_dfs'][0]['df']['Chi*T(cgs)_[cm^3/mol]'] / job.output['B_dfs'][0]['df']['T_[K]']\n",
    "chiT_df.drop(0, inplace=True)\n",
    "chiT_df.plot(x='T_[K]', y='chi', title='Chi*T(cgs)_[cm^3/mol] / T_[K]')\n",
    "ax = plt.gca()\n",
    "ax.grid(ls='--')"
   ]
  },
  {
   "cell_type": "code",
   "execution_count": null,
   "id": "9cd61866-a941-486c-834c-aa49c205c134",
   "metadata": {},
   "outputs": [],
   "source": []
  }
 ],
 "metadata": {
  "language_info": {
   "name": "python",
   "pygments_lexer": "ipython3"
  }
 },
 "nbformat": 4,
 "nbformat_minor": 5
}
